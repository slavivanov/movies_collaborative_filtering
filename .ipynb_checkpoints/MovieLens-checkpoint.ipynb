{
 "cells": [
  {
   "cell_type": "markdown",
   "metadata": {},
   "source": [
    "Movielens collaborative filtering dataset exploration (100k ratings)\n",
    "\n",
    "Available from https://grouplens.org/datasets/movielens/"
   ]
  },
  {
   "cell_type": "markdown",
   "metadata": {
    "heading_collapsed": true
   },
   "source": [
    "# Imports"
   ]
  },
  {
   "cell_type": "code",
   "execution_count": 1,
   "metadata": {
    "ExecuteTime": {
     "end_time": "2017-03-01T22:16:57.235849",
     "start_time": "2017-03-01T22:16:53.408894"
    },
    "collapsed": false,
    "hidden": true
   },
   "outputs": [
    {
     "name": "stderr",
     "output_type": "stream",
     "text": [
      "Using TensorFlow backend.\n"
     ]
    }
   ],
   "source": [
    "from __future__ import absolute_import\n",
    "from __future__ import print_function\n",
    "from __future__ import division\n",
    "\n",
    "import pandas as pd\n",
    "import keras\n",
    "import numpy as np\n",
    "import matplotlib.pyplot as plt\n",
    "from keras.layers import Embedding, Dense, Input, merge, Flatten\n",
    "from keras.layers import Dropout, BatchNormalization\n",
    "from keras.models import Model\n",
    "from keras.optimizers import Adam\n",
    "from keras.regularizers import l2\n",
    "\n",
    "from IPython.core.interactiveshell import InteractiveShell\n",
    "InteractiveShell.ast_node_interactivity = \"all\"\n",
    "\n",
    "%matplotlib inline"
   ]
  },
  {
   "cell_type": "markdown",
   "metadata": {
    "heading_collapsed": true
   },
   "source": [
    "# Load data"
   ]
  },
  {
   "cell_type": "code",
   "execution_count": 2,
   "metadata": {
    "ExecuteTime": {
     "end_time": "2017-03-01T22:16:57.300703",
     "start_time": "2017-03-01T22:16:57.282211"
    },
    "collapsed": false,
    "hidden": true
   },
   "outputs": [],
   "source": [
    "batch_size = 64\n",
    "data_path = './data/ratings.csv'"
   ]
  },
  {
   "cell_type": "code",
   "execution_count": 3,
   "metadata": {
    "ExecuteTime": {
     "end_time": "2017-03-01T22:16:57.457856",
     "start_time": "2017-03-01T22:16:57.304756"
    },
    "collapsed": false,
    "hidden": true
   },
   "outputs": [
    {
     "data": {
      "text/plain": [
       "(100004, 4)"
      ]
     },
     "execution_count": 3,
     "metadata": {},
     "output_type": "execute_result"
    }
   ],
   "source": [
    "data = pd.read_csv(data_path)\n",
    "data.shape"
   ]
  },
  {
   "cell_type": "code",
   "execution_count": 4,
   "metadata": {
    "ExecuteTime": {
     "end_time": "2017-03-01T22:16:57.485357",
     "start_time": "2017-03-01T22:16:57.460578"
    },
    "collapsed": false,
    "hidden": true
   },
   "outputs": [
    {
     "data": {
      "text/html": [
       "<div>\n",
       "<table border=\"1\" class=\"dataframe\">\n",
       "  <thead>\n",
       "    <tr style=\"text-align: right;\">\n",
       "      <th></th>\n",
       "      <th>userId</th>\n",
       "      <th>movieId</th>\n",
       "      <th>rating</th>\n",
       "      <th>timestamp</th>\n",
       "    </tr>\n",
       "  </thead>\n",
       "  <tbody>\n",
       "    <tr>\n",
       "      <th>0</th>\n",
       "      <td>1</td>\n",
       "      <td>31</td>\n",
       "      <td>2.5</td>\n",
       "      <td>1260759144</td>\n",
       "    </tr>\n",
       "    <tr>\n",
       "      <th>1</th>\n",
       "      <td>1</td>\n",
       "      <td>1029</td>\n",
       "      <td>3.0</td>\n",
       "      <td>1260759179</td>\n",
       "    </tr>\n",
       "    <tr>\n",
       "      <th>2</th>\n",
       "      <td>1</td>\n",
       "      <td>1061</td>\n",
       "      <td>3.0</td>\n",
       "      <td>1260759182</td>\n",
       "    </tr>\n",
       "    <tr>\n",
       "      <th>3</th>\n",
       "      <td>1</td>\n",
       "      <td>1129</td>\n",
       "      <td>2.0</td>\n",
       "      <td>1260759185</td>\n",
       "    </tr>\n",
       "    <tr>\n",
       "      <th>4</th>\n",
       "      <td>1</td>\n",
       "      <td>1172</td>\n",
       "      <td>4.0</td>\n",
       "      <td>1260759205</td>\n",
       "    </tr>\n",
       "  </tbody>\n",
       "</table>\n",
       "</div>"
      ],
      "text/plain": [
       "   userId  movieId  rating   timestamp\n",
       "0       1       31     2.5  1260759144\n",
       "1       1     1029     3.0  1260759179\n",
       "2       1     1061     3.0  1260759182\n",
       "3       1     1129     2.0  1260759185\n",
       "4       1     1172     4.0  1260759205"
      ]
     },
     "execution_count": 4,
     "metadata": {},
     "output_type": "execute_result"
    }
   ],
   "source": [
    "data.head()"
   ]
  },
  {
   "cell_type": "code",
   "execution_count": 5,
   "metadata": {
    "ExecuteTime": {
     "end_time": "2017-03-01T22:16:57.571401",
     "start_time": "2017-03-01T22:16:57.515564"
    },
    "collapsed": false,
    "hidden": true
   },
   "outputs": [
    {
     "data": {
      "text/plain": [
       "5.0"
      ]
     },
     "execution_count": 5,
     "metadata": {},
     "output_type": "execute_result"
    },
    {
     "data": {
      "text/plain": [
       "671"
      ]
     },
     "execution_count": 5,
     "metadata": {},
     "output_type": "execute_result"
    },
    {
     "data": {
      "text/plain": [
       "163949"
      ]
     },
     "execution_count": 5,
     "metadata": {},
     "output_type": "execute_result"
    },
    {
     "data": {
      "text/plain": [
       "671"
      ]
     },
     "execution_count": 5,
     "metadata": {},
     "output_type": "execute_result"
    },
    {
     "data": {
      "text/plain": [
       "9066"
      ]
     },
     "execution_count": 5,
     "metadata": {},
     "output_type": "execute_result"
    }
   ],
   "source": [
    "data.rating.max()\n",
    "data.userId.max()\n",
    "data.movieId.max()\n",
    "len(data.userId.unique())\n",
    "len(data.movieId.unique())"
   ]
  },
  {
   "cell_type": "code",
   "execution_count": 6,
   "metadata": {
    "ExecuteTime": {
     "end_time": "2017-03-01T22:17:04.210318",
     "start_time": "2017-03-01T22:17:04.191009"
    },
    "collapsed": true,
    "hidden": true
   },
   "outputs": [],
   "source": [
    "users = data.userId.unique()\n",
    "movies = data.movieId.unique()\n",
    "# Movie and user ids are not continuous, i.e. we have id 163949 for only\n",
    "# 9k movies.\n",
    "# So map user and movie ids to user and movie indexes\n",
    "userid2index = {id: index for index, id in enumerate(users)}\n",
    "movieid2index = {id: index for index, id in enumerate(movies)}\n",
    "user_index2id = {index: id for index, id in enumerate(users)}\n",
    "movie_index2id = {index: id for index, id in enumerate(movies)}"
   ]
  },
  {
   "cell_type": "markdown",
   "metadata": {
    "hidden": true
   },
   "source": [
    "Update the movie and user ids so that they are continuous"
   ]
  },
  {
   "cell_type": "code",
   "execution_count": 7,
   "metadata": {
    "ExecuteTime": {
     "end_time": "2017-03-01T22:17:04.882853",
     "start_time": "2017-03-01T22:17:04.710424"
    },
    "collapsed": false,
    "hidden": true
   },
   "outputs": [],
   "source": [
    "data.userId = data.userId.apply(lambda x: userid2index[x])\n",
    "data.movieId = data.movieId.apply(lambda x: movieid2index[x])"
   ]
  },
  {
   "cell_type": "code",
   "execution_count": 8,
   "metadata": {
    "ExecuteTime": {
     "end_time": "2017-03-01T22:17:05.155377",
     "start_time": "2017-03-01T22:17:05.146439"
    },
    "collapsed": false,
    "hidden": true
   },
   "outputs": [
    {
     "data": {
      "text/plain": [
       "(671, 9066)"
      ]
     },
     "execution_count": 8,
     "metadata": {},
     "output_type": "execute_result"
    }
   ],
   "source": [
    "num_users = len(users)\n",
    "num_movies = len(movies)\n",
    "num_users, num_movies"
   ]
  },
  {
   "cell_type": "code",
   "execution_count": 9,
   "metadata": {
    "ExecuteTime": {
     "end_time": "2017-03-01T22:17:05.648110",
     "start_time": "2017-03-01T22:17:05.615292"
    },
    "collapsed": false,
    "hidden": true
   },
   "outputs": [
    {
     "data": {
      "text/html": [
       "<div>\n",
       "<table border=\"1\" class=\"dataframe\">\n",
       "  <thead>\n",
       "    <tr style=\"text-align: right;\">\n",
       "      <th></th>\n",
       "      <th>title</th>\n",
       "      <th>genres</th>\n",
       "    </tr>\n",
       "    <tr>\n",
       "      <th>movieId</th>\n",
       "      <th></th>\n",
       "      <th></th>\n",
       "    </tr>\n",
       "  </thead>\n",
       "  <tbody>\n",
       "    <tr>\n",
       "      <th>1</th>\n",
       "      <td>Toy Story (1995)</td>\n",
       "      <td>Adventure|Animation|Children|Comedy|Fantasy</td>\n",
       "    </tr>\n",
       "    <tr>\n",
       "      <th>2</th>\n",
       "      <td>Jumanji (1995)</td>\n",
       "      <td>Adventure|Children|Fantasy</td>\n",
       "    </tr>\n",
       "    <tr>\n",
       "      <th>3</th>\n",
       "      <td>Grumpier Old Men (1995)</td>\n",
       "      <td>Comedy|Romance</td>\n",
       "    </tr>\n",
       "    <tr>\n",
       "      <th>4</th>\n",
       "      <td>Waiting to Exhale (1995)</td>\n",
       "      <td>Comedy|Drama|Romance</td>\n",
       "    </tr>\n",
       "    <tr>\n",
       "      <th>5</th>\n",
       "      <td>Father of the Bride Part II (1995)</td>\n",
       "      <td>Comedy</td>\n",
       "    </tr>\n",
       "  </tbody>\n",
       "</table>\n",
       "</div>"
      ],
      "text/plain": [
       "                                      title  \\\n",
       "movieId                                       \n",
       "1                          Toy Story (1995)   \n",
       "2                            Jumanji (1995)   \n",
       "3                   Grumpier Old Men (1995)   \n",
       "4                  Waiting to Exhale (1995)   \n",
       "5        Father of the Bride Part II (1995)   \n",
       "\n",
       "                                              genres  \n",
       "movieId                                               \n",
       "1        Adventure|Animation|Children|Comedy|Fantasy  \n",
       "2                         Adventure|Children|Fantasy  \n",
       "3                                     Comedy|Romance  \n",
       "4                               Comedy|Drama|Romance  \n",
       "5                                             Comedy  "
      ]
     },
     "execution_count": 9,
     "metadata": {},
     "output_type": "execute_result"
    }
   ],
   "source": [
    "# Movie names\n",
    "movie_names = pd.read_csv('./data/movies.csv', index_col=0)\n",
    "movie_names.head()"
   ]
  },
  {
   "cell_type": "markdown",
   "metadata": {
    "hidden": true
   },
   "source": [
    "Create train and valid sets"
   ]
  },
  {
   "cell_type": "code",
   "execution_count": 10,
   "metadata": {
    "ExecuteTime": {
     "end_time": "2017-03-01T22:17:06.879087",
     "start_time": "2017-03-01T22:17:06.860265"
    },
    "collapsed": false,
    "hidden": true
   },
   "outputs": [
    {
     "data": {
      "text/plain": [
       "((79915, 4), (20089, 4))"
      ]
     },
     "execution_count": 10,
     "metadata": {},
     "output_type": "execute_result"
    }
   ],
   "source": [
    "train_mask = np.random.rand(len(data)) < 0.8\n",
    "valid_mask = ~ train_mask\n",
    "train = data[train_mask]\n",
    "valid = data[valid_mask]\n",
    "train.shape, valid.shape"
   ]
  },
  {
   "cell_type": "markdown",
   "metadata": {
    "heading_collapsed": true
   },
   "source": [
    "# Dot product model"
   ]
  },
  {
   "cell_type": "markdown",
   "metadata": {
    "ExecuteTime": {
     "end_time": "2017-02-28T19:26:51.286334",
     "start_time": "2017-02-28T19:26:51.278963"
    },
    "heading_collapsed": true,
    "hidden": true
   },
   "source": [
    "## Create Model"
   ]
  },
  {
   "cell_type": "code",
   "execution_count": 11,
   "metadata": {
    "ExecuteTime": {
     "end_time": "2017-03-01T22:17:08.938602",
     "start_time": "2017-03-01T22:17:08.934518"
    },
    "collapsed": true,
    "hidden": true
   },
   "outputs": [],
   "source": [
    "num_latent_factors = 50\n",
    "regularization = 1e-4"
   ]
  },
  {
   "cell_type": "markdown",
   "metadata": {
    "hidden": true
   },
   "source": [
    "User Embeddings"
   ]
  },
  {
   "cell_type": "code",
   "execution_count": 41,
   "metadata": {
    "ExecuteTime": {
     "end_time": "2017-03-01T22:22:45.498815",
     "start_time": "2017-03-01T22:22:45.425491"
    },
    "code_folding": [],
    "collapsed": false,
    "hidden": true
   },
   "outputs": [],
   "source": [
    "user_inp = Input(shape=(1,))\n",
    "user_embeddings = Embedding(\n",
    "    input_dim=num_users,\n",
    "    output_dim=num_latent_factors,\n",
    "    input_length=1,\n",
    "    name='user_emb',\n",
    "    W_regularizer=l2(regularization))(user_inp)"
   ]
  },
  {
   "cell_type": "markdown",
   "metadata": {
    "hidden": true
   },
   "source": [
    "Movie Embeddings"
   ]
  },
  {
   "cell_type": "code",
   "execution_count": 42,
   "metadata": {
    "ExecuteTime": {
     "end_time": "2017-03-01T22:22:46.308816",
     "start_time": "2017-03-01T22:22:46.252262"
    },
    "collapsed": true,
    "hidden": true
   },
   "outputs": [],
   "source": [
    "movie_inp = Input(shape=(1,))\n",
    "movie_embeddings = Embedding(\n",
    "    input_dim=num_movies,\n",
    "    output_dim=num_latent_factors,\n",
    "    input_length=1,\n",
    "    name='movie_emb',\n",
    "    W_regularizer=l2(regularization))(movie_inp)"
   ]
  },
  {
   "cell_type": "markdown",
   "metadata": {
    "hidden": true
   },
   "source": [
    "Movie/User ratings matrix"
   ]
  },
  {
   "cell_type": "code",
   "execution_count": 14,
   "metadata": {
    "ExecuteTime": {
     "end_time": "2017-03-01T22:17:10.536279",
     "start_time": "2017-03-01T22:17:10.490235"
    },
    "collapsed": false,
    "hidden": true
   },
   "outputs": [],
   "source": [
    "# dot product\n",
    "pred_ratings = merge([user_embeddings, movie_embeddings],\n",
    "                     mode='dot', name='dot_product')\n",
    "x = Flatten()(pred_ratings)"
   ]
  },
  {
   "cell_type": "markdown",
   "metadata": {
    "hidden": true
   },
   "source": [
    "Setup the model, compile and review"
   ]
  },
  {
   "cell_type": "code",
   "execution_count": 15,
   "metadata": {
    "ExecuteTime": {
     "end_time": "2017-03-01T22:17:12.242159",
     "start_time": "2017-03-01T22:17:12.113268"
    },
    "collapsed": false,
    "hidden": true
   },
   "outputs": [],
   "source": [
    "model = Model(input=[user_inp, movie_inp], output=x)\n",
    "model.compile(optimizer='adam', loss='mse')"
   ]
  },
  {
   "cell_type": "code",
   "execution_count": 43,
   "metadata": {
    "ExecuteTime": {
     "end_time": "2017-03-01T22:22:48.488001",
     "start_time": "2017-03-01T22:22:48.479731"
    },
    "collapsed": false,
    "hidden": true
   },
   "outputs": [
    {
     "name": "stdout",
     "output_type": "stream",
     "text": [
      "____________________________________________________________________________________________________\n",
      "Layer (type)                     Output Shape          Param #     Connected to                     \n",
      "====================================================================================================\n",
      "input_3 (InputLayer)             (None, 1)             0                                            \n",
      "____________________________________________________________________________________________________\n",
      "input_4 (InputLayer)             (None, 1)             0                                            \n",
      "____________________________________________________________________________________________________\n",
      "user_emb (Embedding)             (None, 1, 50)         33550       input_3[0][0]                    \n",
      "____________________________________________________________________________________________________\n",
      "movie_emb (Embedding)            (None, 1, 50)         453300      input_4[0][0]                    \n",
      "____________________________________________________________________________________________________\n",
      "dot_product (Merge)              (None, 1, 1)          0           user_emb[0][0]                   \n",
      "                                                                   movie_emb[0][0]                  \n",
      "____________________________________________________________________________________________________\n",
      "user_bias (Embedding)            (None, 1, 1)          671         input_3[0][0]                    \n",
      "____________________________________________________________________________________________________\n",
      "flatten_8 (Flatten)              (None, 1)             0           dot_product[0][0]                \n",
      "____________________________________________________________________________________________________\n",
      "flatten_6 (Flatten)              (None, 1)             0           user_bias[0][0]                  \n",
      "____________________________________________________________________________________________________\n",
      "movie_bias (Embedding)           (None, 1, 1)          9066        input_4[0][0]                    \n",
      "____________________________________________________________________________________________________\n",
      "merge_3 (Merge)                  (None, 1)             0           flatten_8[0][0]                  \n",
      "                                                                   flatten_6[0][0]                  \n",
      "____________________________________________________________________________________________________\n",
      "flatten_7 (Flatten)              (None, 1)             0           movie_bias[0][0]                 \n",
      "____________________________________________________________________________________________________\n",
      "merge_4 (Merge)                  (None, 1)             0           merge_3[0][0]                    \n",
      "                                                                   flatten_7[0][0]                  \n",
      "====================================================================================================\n",
      "Total params: 496,587\n",
      "Trainable params: 496,587\n",
      "Non-trainable params: 0\n",
      "____________________________________________________________________________________________________\n"
     ]
    }
   ],
   "source": [
    "model.summary()"
   ]
  },
  {
   "cell_type": "markdown",
   "metadata": {
    "heading_collapsed": true,
    "hidden": true
   },
   "source": [
    "## Train "
   ]
  },
  {
   "cell_type": "code",
   "execution_count": 140,
   "metadata": {
    "ExecuteTime": {
     "end_time": "2017-03-01T18:14:02.965145",
     "start_time": "2017-03-01T18:07:23.819559"
    },
    "collapsed": false,
    "hidden": true
   },
   "outputs": [
    {
     "data": {
      "text/plain": [
       "<tf.Tensor 'Assign_14:0' shape=() dtype=float32_ref>"
      ]
     },
     "execution_count": 140,
     "metadata": {},
     "output_type": "execute_result"
    },
    {
     "name": "stdout",
     "output_type": "stream",
     "text": [
      "Train on 80019 samples, validate on 19985 samples\n",
      "Epoch 1/10\n",
      "80019/80019 [==============================] - 39s - loss: 10.0091 - val_loss: 4.3047\n",
      "Epoch 2/10\n",
      "80019/80019 [==============================] - 40s - loss: 3.1665 - val_loss: 2.7901\n",
      "Epoch 3/10\n",
      "80019/80019 [==============================] - 38s - loss: 2.4172 - val_loss: 2.5823\n",
      "Epoch 4/10\n",
      "80019/80019 [==============================] - 36s - loss: 2.2414 - val_loss: 2.5379\n",
      "Epoch 5/10\n",
      "80019/80019 [==============================] - 39s - loss: 2.1749 - val_loss: 2.5266\n",
      "Epoch 6/10\n",
      "80019/80019 [==============================] - 39s - loss: 2.1372 - val_loss: 2.5306\n",
      "Epoch 7/10\n",
      "80019/80019 [==============================] - 45s - loss: 2.1122 - val_loss: 2.5304\n",
      "Epoch 8/10\n",
      "80019/80019 [==============================] - 41s - loss: 2.0914 - val_loss: 2.5303\n",
      "Epoch 9/10\n",
      "80019/80019 [==============================] - 38s - loss: 2.0705 - val_loss: 2.5361\n",
      "Epoch 10/10\n",
      "80019/80019 [==============================] - 39s - loss: 2.0500 - val_loss: 2.5517\n"
     ]
    },
    {
     "data": {
      "text/plain": [
       "<keras.callbacks.History at 0x112fe9590>"
      ]
     },
     "execution_count": 140,
     "metadata": {},
     "output_type": "execute_result"
    }
   ],
   "source": [
    "model.optimizer.lr.assign(0.001)\n",
    "model.fit(x=[train.userId, train.movieId],\n",
    "          y=train.rating,\n",
    "          batch_size=64,\n",
    "          nb_epoch=10,\n",
    "          validation_data=([valid.userId, valid.movieId], valid.rating))"
   ]
  },
  {
   "cell_type": "markdown",
   "metadata": {
    "hidden": true
   },
   "source": [
    "Loss is not great so we will add bias terms next."
   ]
  },
  {
   "cell_type": "markdown",
   "metadata": {
    "heading_collapsed": true,
    "hidden": true
   },
   "source": [
    "## Add bias"
   ]
  },
  {
   "cell_type": "code",
   "execution_count": 46,
   "metadata": {
    "ExecuteTime": {
     "end_time": "2017-03-01T22:23:14.374386",
     "start_time": "2017-03-01T22:23:14.270122"
    },
    "collapsed": false,
    "hidden": true
   },
   "outputs": [],
   "source": [
    "users_bias = Embedding(input_dim=num_users, output_dim=1,\n",
    "                       input_length=1, name='user_bias')(user_inp)\n",
    "users_bias = Flatten()(users_bias)\n",
    "\n",
    "movies_bias = Embedding(input_dim=num_movies, output_dim=1,\n",
    "                        input_length=1, name='movie_bias')(movie_inp)\n",
    "movies_bias = Flatten()(movies_bias)"
   ]
  },
  {
   "cell_type": "code",
   "execution_count": 47,
   "metadata": {
    "ExecuteTime": {
     "end_time": "2017-03-01T22:23:15.130177",
     "start_time": "2017-03-01T22:23:14.984874"
    },
    "collapsed": false,
    "hidden": true
   },
   "outputs": [],
   "source": [
    "pred_ratings = merge([user_embeddings, movie_embeddings],\n",
    "                     mode='dot', name='dot_product')\n",
    "x = Flatten()(pred_ratings)\n",
    "x = merge([x, users_bias], mode='sum')\n",
    "x = merge([x, movies_bias], mode='sum')\n",
    "\n",
    "model = Model(input=[user_inp, movie_inp], output=x)\n",
    "model.compile(optimizer=Adam(), loss='mse')"
   ]
  },
  {
   "cell_type": "code",
   "execution_count": 48,
   "metadata": {
    "ExecuteTime": {
     "end_time": "2017-03-01T22:23:17.742855",
     "start_time": "2017-03-01T22:23:17.734650"
    },
    "collapsed": false,
    "hidden": true
   },
   "outputs": [
    {
     "name": "stdout",
     "output_type": "stream",
     "text": [
      "____________________________________________________________________________________________________\n",
      "Layer (type)                     Output Shape          Param #     Connected to                     \n",
      "====================================================================================================\n",
      "input_5 (InputLayer)             (None, 1)             0                                            \n",
      "____________________________________________________________________________________________________\n",
      "input_6 (InputLayer)             (None, 1)             0                                            \n",
      "____________________________________________________________________________________________________\n",
      "user_emb (Embedding)             (None, 1, 50)         33550       input_5[0][0]                    \n",
      "____________________________________________________________________________________________________\n",
      "movie_emb (Embedding)            (None, 1, 50)         453300      input_6[0][0]                    \n",
      "____________________________________________________________________________________________________\n",
      "dot_product (Merge)              (None, 1, 1)          0           user_emb[0][0]                   \n",
      "                                                                   movie_emb[0][0]                  \n",
      "____________________________________________________________________________________________________\n",
      "user_bias (Embedding)            (None, 1, 1)          671         input_5[0][0]                    \n",
      "____________________________________________________________________________________________________\n",
      "flatten_7 (Flatten)              (None, 1)             0           dot_product[0][0]                \n",
      "____________________________________________________________________________________________________\n",
      "flatten_5 (Flatten)              (None, 1)             0           user_bias[0][0]                  \n",
      "____________________________________________________________________________________________________\n",
      "movie_bias (Embedding)           (None, 1, 1)          9066        input_6[0][0]                    \n",
      "____________________________________________________________________________________________________\n",
      "merge_3 (Merge)                  (None, 1)             0           flatten_7[0][0]                  \n",
      "                                                                   flatten_5[0][0]                  \n",
      "____________________________________________________________________________________________________\n",
      "flatten_6 (Flatten)              (None, 1)             0           movie_bias[0][0]                 \n",
      "____________________________________________________________________________________________________\n",
      "merge_4 (Merge)                  (None, 1)             0           merge_3[0][0]                    \n",
      "                                                                   flatten_6[0][0]                  \n",
      "====================================================================================================\n",
      "Total params: 496,587\n",
      "Trainable params: 496,587\n",
      "Non-trainable params: 0\n",
      "____________________________________________________________________________________________________\n"
     ]
    }
   ],
   "source": [
    "model.summary()"
   ]
  },
  {
   "cell_type": "code",
   "execution_count": 192,
   "metadata": {
    "ExecuteTime": {
     "end_time": "2017-03-01T22:08:31.325156",
     "start_time": "2017-03-01T22:08:05.914692"
    },
    "collapsed": false,
    "hidden": true
   },
   "outputs": [],
   "source": [
    "model.optimizer.lr.assign(1e-3)\n",
    "model.fit(x=[train.userId, train.movieId],\n",
    "          y=train.rating,\n",
    "          batch_size=64,\n",
    "          nb_epoch=5,\n",
    "          validation_data=([valid.userId, valid.movieId], valid.rating))"
   ]
  },
  {
   "cell_type": "code",
   "execution_count": 148,
   "metadata": {
    "ExecuteTime": {
     "end_time": "2017-03-01T18:39:50.013647",
     "start_time": "2017-03-01T18:33:07.402629"
    },
    "collapsed": false,
    "hidden": true
   },
   "outputs": [
    {
     "data": {
      "text/plain": [
       "<tf.Tensor 'Assign_35:0' shape=() dtype=float32_ref>"
      ]
     },
     "execution_count": 148,
     "metadata": {},
     "output_type": "execute_result"
    },
    {
     "name": "stdout",
     "output_type": "stream",
     "text": [
      "Train on 80019 samples, validate on 19985 samples\n",
      "Epoch 1/10\n",
      "80019/80019 [==============================] - 39s - loss: 1.2846 - val_loss: 1.6802\n",
      "Epoch 2/10\n",
      "80019/80019 [==============================] - 40s - loss: 1.2272 - val_loss: 1.6199\n",
      "Epoch 3/10\n",
      "80019/80019 [==============================] - 35s - loss: 1.1706 - val_loss: 1.5658\n",
      "Epoch 4/10\n",
      "80019/80019 [==============================] - 37s - loss: 1.1185 - val_loss: 1.5167\n",
      "Epoch 5/10\n",
      "80019/80019 [==============================] - 38s - loss: 1.0669 - val_loss: 1.4693\n",
      "Epoch 6/10\n",
      "80019/80019 [==============================] - 38s - loss: 1.0182 - val_loss: 1.4217\n",
      "Epoch 7/10\n",
      "80019/80019 [==============================] - 42s - loss: 0.9716 - val_loss: 1.3761\n",
      "Epoch 8/10\n",
      "80019/80019 [==============================] - 43s - loss: 0.9275 - val_loss: 1.3366\n",
      "Epoch 9/10\n",
      "80019/80019 [==============================] - 43s - loss: 0.8861 - val_loss: 1.2968\n",
      "Epoch 10/10\n",
      "80019/80019 [==============================] - 43s - loss: 0.8473 - val_loss: 1.2617\n"
     ]
    },
    {
     "data": {
      "text/plain": [
       "<keras.callbacks.History at 0x114c59ad0>"
      ]
     },
     "execution_count": 148,
     "metadata": {},
     "output_type": "execute_result"
    }
   ],
   "source": [
    "model.optimizer.lr.assign(1e-4)\n",
    "model.fit(x=[train.userId, train.movieId],\n",
    "          y=train.rating,\n",
    "          batch_size=64,\n",
    "          nb_epoch=10,\n",
    "          validation_data=([valid.userId, valid.movieId], valid.rating))"
   ]
  },
  {
   "cell_type": "code",
   "execution_count": 149,
   "metadata": {
    "ExecuteTime": {
     "end_time": "2017-03-01T18:46:48.231000",
     "start_time": "2017-03-01T18:39:50.016901"
    },
    "collapsed": false,
    "hidden": true
   },
   "outputs": [
    {
     "data": {
      "text/plain": [
       "<tf.Tensor 'Assign_36:0' shape=() dtype=float32_ref>"
      ]
     },
     "execution_count": 149,
     "metadata": {},
     "output_type": "execute_result"
    },
    {
     "name": "stdout",
     "output_type": "stream",
     "text": [
      "Train on 80019 samples, validate on 19985 samples\n",
      "Epoch 1/10\n",
      "80019/80019 [==============================] - 40s - loss: 0.8110 - val_loss: 1.2277\n",
      "Epoch 2/10\n",
      "80019/80019 [==============================] - 40s - loss: 0.7775 - val_loss: 1.1983\n",
      "Epoch 3/10\n",
      "80019/80019 [==============================] - 41s - loss: 0.7465 - val_loss: 1.1674\n",
      "Epoch 4/10\n",
      "80019/80019 [==============================] - 41s - loss: 0.7184 - val_loss: 1.1444\n",
      "Epoch 5/10\n",
      "80019/80019 [==============================] - 41s - loss: 0.6926 - val_loss: 1.1219\n",
      "Epoch 6/10\n",
      "80019/80019 [==============================] - 42s - loss: 0.6696 - val_loss: 1.1033\n",
      "Epoch 7/10\n",
      "80019/80019 [==============================] - 42s - loss: 0.6492 - val_loss: 1.0847\n",
      "Epoch 8/10\n",
      "80019/80019 [==============================] - 42s - loss: 0.6309 - val_loss: 1.0702\n",
      "Epoch 9/10\n",
      "80019/80019 [==============================] - 42s - loss: 0.6152 - val_loss: 1.0580\n",
      "Epoch 10/10\n",
      "80019/80019 [==============================] - 42s - loss: 0.6014 - val_loss: 1.0469\n"
     ]
    },
    {
     "data": {
      "text/plain": [
       "<keras.callbacks.History at 0x1130a2d50>"
      ]
     },
     "execution_count": 149,
     "metadata": {},
     "output_type": "execute_result"
    }
   ],
   "source": [
    "model.optimizer.lr.assign(1e-4)\n",
    "model.fit(x=[train.userId, train.movieId],\n",
    "          y=train.rating,\n",
    "          batch_size=64,\n",
    "          nb_epoch=10,\n",
    "          validation_data=([valid.userId, valid.movieId], valid.rating))"
   ]
  },
  {
   "cell_type": "markdown",
   "metadata": {
    "hidden": true
   },
   "source": [
    "That accuracy is much better. State of art on this dataset is around 0.79. Still ways to go."
   ]
  },
  {
   "cell_type": "code",
   "execution_count": 150,
   "metadata": {
    "ExecuteTime": {
     "end_time": "2017-03-01T18:52:03.853645",
     "start_time": "2017-03-01T18:52:03.790075"
    },
    "collapsed": true,
    "hidden": true
   },
   "outputs": [],
   "source": [
    "model.save('bias_model.hdf5')"
   ]
  },
  {
   "cell_type": "code",
   "execution_count": 51,
   "metadata": {
    "ExecuteTime": {
     "end_time": "2017-03-01T22:25:18.785959",
     "start_time": "2017-03-01T22:25:16.319415"
    },
    "collapsed": false,
    "hidden": true
   },
   "outputs": [],
   "source": [
    "model_loaded = keras.models.load_model('bias_model.hdf5')\n",
    "for layer1, layer2 in zip(model.layers, model_loaded.layers):\n",
    "    layer1.set_weights(layer2.get_weights())"
   ]
  },
  {
   "cell_type": "code",
   "execution_count": 52,
   "metadata": {
    "ExecuteTime": {
     "end_time": "2017-03-01T22:25:21.191251",
     "start_time": "2017-03-01T22:25:21.062545"
    },
    "collapsed": false,
    "hidden": true
   },
   "outputs": [
    {
     "data": {
      "text/plain": [
       "array([[ 4.99327707]], dtype=float32)"
      ]
     },
     "execution_count": 52,
     "metadata": {},
     "output_type": "execute_result"
    }
   ],
   "source": [
    "model.predict([np.array([3]), np.array([6])])"
   ]
  },
  {
   "cell_type": "markdown",
   "metadata": {
    "heading_collapsed": true
   },
   "source": [
    "# What does the model see? \n",
    "Review bias, latent factors."
   ]
  },
  {
   "cell_type": "markdown",
   "metadata": {
    "heading_collapsed": true,
    "hidden": true
   },
   "source": [
    "## Prepare data"
   ]
  },
  {
   "cell_type": "code",
   "execution_count": 53,
   "metadata": {
    "ExecuteTime": {
     "end_time": "2017-03-01T22:25:24.290173",
     "start_time": "2017-03-01T22:25:24.270135"
    },
    "collapsed": false,
    "hidden": true
   },
   "outputs": [
    {
     "data": {
      "text/html": [
       "<div>\n",
       "<table border=\"1\" class=\"dataframe\">\n",
       "  <thead>\n",
       "    <tr style=\"text-align: right;\">\n",
       "      <th></th>\n",
       "      <th>userId</th>\n",
       "      <th>movieId</th>\n",
       "      <th>rating</th>\n",
       "      <th>timestamp</th>\n",
       "    </tr>\n",
       "  </thead>\n",
       "  <tbody>\n",
       "    <tr>\n",
       "      <th>0</th>\n",
       "      <td>0</td>\n",
       "      <td>0</td>\n",
       "      <td>2.5</td>\n",
       "      <td>1260759144</td>\n",
       "    </tr>\n",
       "    <tr>\n",
       "      <th>1</th>\n",
       "      <td>0</td>\n",
       "      <td>1</td>\n",
       "      <td>3.0</td>\n",
       "      <td>1260759179</td>\n",
       "    </tr>\n",
       "    <tr>\n",
       "      <th>2</th>\n",
       "      <td>0</td>\n",
       "      <td>2</td>\n",
       "      <td>3.0</td>\n",
       "      <td>1260759182</td>\n",
       "    </tr>\n",
       "    <tr>\n",
       "      <th>3</th>\n",
       "      <td>0</td>\n",
       "      <td>3</td>\n",
       "      <td>2.0</td>\n",
       "      <td>1260759185</td>\n",
       "    </tr>\n",
       "    <tr>\n",
       "      <th>4</th>\n",
       "      <td>0</td>\n",
       "      <td>4</td>\n",
       "      <td>4.0</td>\n",
       "      <td>1260759205</td>\n",
       "    </tr>\n",
       "  </tbody>\n",
       "</table>\n",
       "</div>"
      ],
      "text/plain": [
       "   userId  movieId  rating   timestamp\n",
       "0       0        0     2.5  1260759144\n",
       "1       0        1     3.0  1260759179\n",
       "2       0        2     3.0  1260759182\n",
       "3       0        3     2.0  1260759185\n",
       "4       0        4     4.0  1260759205"
      ]
     },
     "execution_count": 53,
     "metadata": {},
     "output_type": "execute_result"
    }
   ],
   "source": [
    "data.head()"
   ]
  },
  {
   "cell_type": "code",
   "execution_count": 54,
   "metadata": {
    "ExecuteTime": {
     "end_time": "2017-03-01T22:25:29.349718",
     "start_time": "2017-03-01T22:25:29.332414"
    },
    "collapsed": false,
    "hidden": true
   },
   "outputs": [
    {
     "data": {
      "text/plain": [
       "(9065, 0, (9066,))"
      ]
     },
     "execution_count": 54,
     "metadata": {},
     "output_type": "execute_result"
    }
   ],
   "source": [
    "# We have transformed the incontinuous ids to continuous indexes\n",
    "all_movie_indexes = data.movieId\n",
    "# Make sure that we have proper indexes\n",
    "all_movie_indexes.max(), all_movie_indexes.min(), all_movie_indexes.unique().shape"
   ]
  },
  {
   "cell_type": "code",
   "execution_count": 55,
   "metadata": {
    "ExecuteTime": {
     "end_time": "2017-03-01T22:25:29.659192",
     "start_time": "2017-03-01T22:25:29.647242"
    },
    "collapsed": false,
    "hidden": true
   },
   "outputs": [],
   "source": [
    "# Get the number of ratings for each movie by grouping on movieId\n",
    "grouped_review_counts = data.groupby('movieId')['rating'].count()"
   ]
  },
  {
   "cell_type": "code",
   "execution_count": 56,
   "metadata": {
    "ExecuteTime": {
     "end_time": "2017-03-01T22:25:30.043469",
     "start_time": "2017-03-01T22:25:30.031499"
    },
    "collapsed": false,
    "hidden": true
   },
   "outputs": [
    {
     "data": {
      "text/plain": [
       "Int64Index([  57,   49,   99,   92,  143,   72,  402,  417,   79,   89,\n",
       "            ...\n",
       "            1330, 1284, 3868, 1518, 5491, 1754, 3423, 3436, 1804, 1793],\n",
       "           dtype='int64', name=u'movieId', length=2000)"
      ]
     },
     "execution_count": 56,
     "metadata": {},
     "output_type": "execute_result"
    }
   ],
   "source": [
    "# Sort the movies by the number of ratings, with most rated first\n",
    "sorted_review_counts = grouped_review_counts.sort_values(ascending=False)\n",
    "# Get the 2000 most reviewed movies\n",
    "most_reviewed_movies_indexes = sorted_review_counts.index[:2000]\n",
    "most_reviewed_movies_indexes"
   ]
  },
  {
   "cell_type": "code",
   "execution_count": 57,
   "metadata": {
    "ExecuteTime": {
     "end_time": "2017-03-01T22:25:31.655798",
     "start_time": "2017-03-01T22:25:31.634230"
    },
    "collapsed": false,
    "hidden": true
   },
   "outputs": [
    {
     "data": {
      "text/html": [
       "<div>\n",
       "<table border=\"1\" class=\"dataframe\">\n",
       "  <thead>\n",
       "    <tr style=\"text-align: right;\">\n",
       "      <th></th>\n",
       "      <th>title</th>\n",
       "      <th>genres</th>\n",
       "    </tr>\n",
       "    <tr>\n",
       "      <th>movieId</th>\n",
       "      <th></th>\n",
       "      <th></th>\n",
       "    </tr>\n",
       "  </thead>\n",
       "  <tbody>\n",
       "    <tr>\n",
       "      <th>1</th>\n",
       "      <td>Toy Story (1995)</td>\n",
       "      <td>Adventure|Animation|Children|Comedy|Fantasy</td>\n",
       "    </tr>\n",
       "    <tr>\n",
       "      <th>2</th>\n",
       "      <td>Jumanji (1995)</td>\n",
       "      <td>Adventure|Children|Fantasy</td>\n",
       "    </tr>\n",
       "    <tr>\n",
       "      <th>3</th>\n",
       "      <td>Grumpier Old Men (1995)</td>\n",
       "      <td>Comedy|Romance</td>\n",
       "    </tr>\n",
       "    <tr>\n",
       "      <th>4</th>\n",
       "      <td>Waiting to Exhale (1995)</td>\n",
       "      <td>Comedy|Drama|Romance</td>\n",
       "    </tr>\n",
       "    <tr>\n",
       "      <th>5</th>\n",
       "      <td>Father of the Bride Part II (1995)</td>\n",
       "      <td>Comedy</td>\n",
       "    </tr>\n",
       "  </tbody>\n",
       "</table>\n",
       "</div>"
      ],
      "text/plain": [
       "                                      title  \\\n",
       "movieId                                       \n",
       "1                          Toy Story (1995)   \n",
       "2                            Jumanji (1995)   \n",
       "3                   Grumpier Old Men (1995)   \n",
       "4                  Waiting to Exhale (1995)   \n",
       "5        Father of the Bride Part II (1995)   \n",
       "\n",
       "                                              genres  \n",
       "movieId                                               \n",
       "1        Adventure|Animation|Children|Comedy|Fantasy  \n",
       "2                         Adventure|Children|Fantasy  \n",
       "3                                     Comedy|Romance  \n",
       "4                               Comedy|Drama|Romance  \n",
       "5                                             Comedy  "
      ]
     },
     "execution_count": 57,
     "metadata": {},
     "output_type": "execute_result"
    },
    {
     "data": {
      "text/plain": [
       "164979"
      ]
     },
     "execution_count": 57,
     "metadata": {},
     "output_type": "execute_result"
    }
   ],
   "source": [
    "movie_names.head()\n",
    "# Movie names uses not movie indexes, but the original movie ids,\n",
    "# as evidenced by the max movie id\n",
    "movie_names.index.max()"
   ]
  },
  {
   "cell_type": "code",
   "execution_count": 58,
   "metadata": {
    "ExecuteTime": {
     "end_time": "2017-03-01T22:25:32.202820",
     "start_time": "2017-03-01T22:25:32.195402"
    },
    "collapsed": false,
    "hidden": true
   },
   "outputs": [
    {
     "name": "stdout",
     "output_type": "stream",
     "text": [
      "Most reviewed movie index: 57\n",
      "Most reviewed movie id: 356\n",
      "Most reviewed movie name: Forrest Gump (1994)\n"
     ]
    }
   ],
   "source": [
    "# Sanity check\n",
    "print('Most reviewed movie index:', most_reviewed_movies_indexes[0])\n",
    "print('Most reviewed movie id:', movie_index2id[\n",
    "      most_reviewed_movies_indexes[0]])\n",
    "print('Most reviewed movie name:', movie_names.title[\n",
    "      movie_index2id[most_reviewed_movies_indexes[0]]])"
   ]
  },
  {
   "cell_type": "markdown",
   "metadata": {
    "hidden": true
   },
   "source": [
    "Forrest Gump seems about right"
   ]
  },
  {
   "cell_type": "code",
   "execution_count": 59,
   "metadata": {
    "ExecuteTime": {
     "end_time": "2017-03-01T22:25:33.093630",
     "start_time": "2017-03-01T22:25:33.073540"
    },
    "collapsed": true,
    "hidden": true
   },
   "outputs": [],
   "source": [
    "# Setup the names of the most rated 2000 movies\n",
    "movie_ids = [movie_index2id[index] for index in most_reviewed_movies_indexes]\n",
    "names = movie_names.title[movie_ids]"
   ]
  },
  {
   "cell_type": "code",
   "execution_count": 60,
   "metadata": {
    "ExecuteTime": {
     "end_time": "2017-03-01T22:25:33.994316",
     "start_time": "2017-03-01T22:25:33.979560"
    },
    "collapsed": false,
    "hidden": true
   },
   "outputs": [
    {
     "data": {
      "text/plain": [
       "movieId\n",
       "356                                     Forrest Gump (1994)\n",
       "296                                     Pulp Fiction (1994)\n",
       "318                        Shawshank Redemption, The (1994)\n",
       "593                        Silence of the Lambs, The (1991)\n",
       "260               Star Wars: Episode IV - A New Hope (1977)\n",
       "480                                    Jurassic Park (1993)\n",
       "2571                                     Matrix, The (1999)\n",
       "1                                          Toy Story (1995)\n",
       "527                                 Schindler's List (1993)\n",
       "589                       Terminator 2: Judgment Day (1991)\n",
       "1196      Star Wars: Episode V - The Empire Strikes Back...\n",
       "110                                       Braveheart (1995)\n",
       "1270                              Back to the Future (1985)\n",
       "608                                            Fargo (1996)\n",
       "1198      Raiders of the Lost Ark (Indiana Jones and the...\n",
       "2858                                 American Beauty (1999)\n",
       "780                    Independence Day (a.k.a. ID4) (1996)\n",
       "1210      Star Wars: Episode VI - Return of the Jedi (1983)\n",
       "588                                          Aladdin (1992)\n",
       "457                                    Fugitive, The (1993)\n",
       "2959                                      Fight Club (1999)\n",
       "590                               Dances with Wolves (1990)\n",
       "47                              Seven (a.k.a. Se7en) (1995)\n",
       "50                               Usual Suspects, The (1995)\n",
       "364                                   Lion King, The (1994)\n",
       "858                                   Godfather, The (1972)\n",
       "4993      Lord of the Rings: The Fellowship of the Ring,...\n",
       "150                                        Apollo 13 (1995)\n",
       "380                                        True Lies (1994)\n",
       "592                                           Batman (1989)\n",
       "                                ...                        \n",
       "3649                                 American Gigolo (1980)\n",
       "366       Wes Craven's New Nightmare (Nightmare on Elm S...\n",
       "2372                                    Fletch Lives (1989)\n",
       "63876                                           Milk (2008)\n",
       "2279                                    Urban Legend (1998)\n",
       "2827                           Astronaut's Wife, The (1999)\n",
       "104913                                          Rush (2013)\n",
       "58295                                  Bank Job, The (2008)\n",
       "3398                     Muppets Take Manhattan, The (1984)\n",
       "8865           Sky Captain and the World of Tomorrow (2004)\n",
       "47518                                       Accepted (2006)\n",
       "848                              Spitfire Grill, The (1996)\n",
       "93                               Vampire in Brooklyn (1995)\n",
       "7569                             You Only Live Twice (1967)\n",
       "156                                 Blue in the Face (1995)\n",
       "2259                                 Blame It on Rio (1984)\n",
       "52885                             Paprika (Papurika) (2006)\n",
       "7132                           Night at the Opera, A (1935)\n",
       "3179                                  Angela's Ashes (1999)\n",
       "6944                             Father of the Bride (1991)\n",
       "6380                         Capturing the Friedmans (2003)\n",
       "5541                                      Hot Shots! (1991)\n",
       "47997                                      Idiocracy (2006)\n",
       "52328                                       Sunshine (2007)\n",
       "938                                             Gigi (1958)\n",
       "98961                               Zero Dark Thirty (2012)\n",
       "7263                                         Miracle (2004)\n",
       "53123                                           Once (2006)\n",
       "108190                                     Divergent (2014)\n",
       "106072                          Thor: The Dark World (2013)\n",
       "Name: title, dtype: object"
      ]
     },
     "execution_count": 60,
     "metadata": {},
     "output_type": "execute_result"
    }
   ],
   "source": [
    "names"
   ]
  },
  {
   "cell_type": "markdown",
   "metadata": {
    "heading_collapsed": true,
    "hidden": true
   },
   "source": [
    "## Movies with most bias "
   ]
  },
  {
   "cell_type": "code",
   "execution_count": 62,
   "metadata": {
    "ExecuteTime": {
     "end_time": "2017-03-01T22:25:47.882210",
     "start_time": "2017-03-01T22:25:47.876966"
    },
    "collapsed": false,
    "hidden": true
   },
   "outputs": [],
   "source": [
    "get_bias = Model(movie_inp, movies_bias)"
   ]
  },
  {
   "cell_type": "code",
   "execution_count": 63,
   "metadata": {
    "ExecuteTime": {
     "end_time": "2017-03-01T22:25:48.738628",
     "start_time": "2017-03-01T22:25:48.586039"
    },
    "collapsed": false,
    "hidden": true
   },
   "outputs": [
    {
     "data": {
      "text/plain": [
       "(2000, 1)"
      ]
     },
     "execution_count": 63,
     "metadata": {},
     "output_type": "execute_result"
    }
   ],
   "source": [
    "biases = get_bias.predict(most_reviewed_movies_indexes)\n",
    "biases.shape"
   ]
  },
  {
   "cell_type": "code",
   "execution_count": 64,
   "metadata": {
    "ExecuteTime": {
     "end_time": "2017-03-01T22:25:49.374428",
     "start_time": "2017-03-01T22:25:49.369408"
    },
    "collapsed": false,
    "hidden": true
   },
   "outputs": [],
   "source": [
    "most_negative_bias_indexes = np.argsort(biases, axis=0)\n",
    "most_positive_bias_indexes = most_negative_bias_indexes[::-1]"
   ]
  },
  {
   "cell_type": "markdown",
   "metadata": {
    "hidden": true
   },
   "source": [
    "And the worst movies are:"
   ]
  },
  {
   "cell_type": "code",
   "execution_count": 65,
   "metadata": {
    "ExecuteTime": {
     "end_time": "2017-03-01T22:25:50.765137",
     "start_time": "2017-03-01T22:25:50.740856"
    },
    "collapsed": false,
    "hidden": true
   },
   "outputs": [
    {
     "data": {
      "text/plain": [
       "array([[array([-0.73873442], dtype=float32), 'Battlefield Earth (2000)'],\n",
       "       [array([-0.45382959], dtype=float32), 'Blade: Trinity (2004)'],\n",
       "       [array([-0.34255055], dtype=float32), 'Jaws 3-D (1983)'],\n",
       "       [array([-0.32341531], dtype=float32), 'Super Mario Bros. (1993)'],\n",
       "       [array([-0.29737321], dtype=float32),\n",
       "        'Speed 2: Cruise Control (1997)'],\n",
       "       [array([-0.27238852], dtype=float32),\n",
       "        '2 Fast 2 Furious (Fast and the Furious 2, The) (2003)'],\n",
       "       [array([-0.25187671], dtype=float32), 'Avengers, The (1998)'],\n",
       "       [array([-0.22809274], dtype=float32),\n",
       "        'Police Academy 6: City Under Siege (1989)'],\n",
       "       [array([-0.19053289], dtype=float32), 'Little Nicky (2000)'],\n",
       "       [array([-0.18457514], dtype=float32), 'Wild Wild West (1999)'],\n",
       "       [array([-0.16028544], dtype=float32), 'Godzilla (1998)'],\n",
       "       [array([-0.13809091], dtype=float32), 'Richie Rich (1994)'],\n",
       "       [array([-0.11911272], dtype=float32),\n",
       "        'Police Academy 5: Assignment: Miami Beach (1988)'],\n",
       "       [array([-0.11524308], dtype=float32), 'Batman & Robin (1997)'],\n",
       "       [array([-0.11086328], dtype=float32), 'Spice World (1997)'],\n",
       "       [array([-0.11055211], dtype=float32), 'Superman III (1983)'],\n",
       "       [array([-0.08663398], dtype=float32), 'Howard the Duck (1986)'],\n",
       "       [array([-0.06817671], dtype=float32), 'Nutty Professor, The (1963)'],\n",
       "       [array([-0.05702643], dtype=float32), 'King Kong (1976)'],\n",
       "       [array([-0.05238862], dtype=float32), 'Bio-Dome (1996)']], dtype=object)"
      ]
     },
     "execution_count": 65,
     "metadata": {},
     "output_type": "execute_result"
    }
   ],
   "source": [
    "np.squeeze(np.array(zip(biases, names))[most_negative_bias_indexes][:20])"
   ]
  },
  {
   "cell_type": "markdown",
   "metadata": {
    "hidden": true
   },
   "source": [
    "And the best movies are:"
   ]
  },
  {
   "cell_type": "code",
   "execution_count": 66,
   "metadata": {
    "ExecuteTime": {
     "end_time": "2017-03-01T22:26:09.550669",
     "start_time": "2017-03-01T22:26:09.525451"
    },
    "collapsed": false,
    "hidden": true
   },
   "outputs": [
    {
     "data": {
      "text/plain": [
       "array([[array([ 1.68002069], dtype=float32),\n",
       "        'Three Colors: White (Trzy kolory: Bialy) (1994)'],\n",
       "       [array([ 1.64782751], dtype=float32),\n",
       "        'Three Colors: Blue (Trois couleurs: Bleu) (1993)'],\n",
       "       [array([ 1.64569116], dtype=float32), 'Little Big Man (1970)'],\n",
       "       [array([ 1.6117934], dtype=float32),\n",
       "        'Shawshank Redemption, The (1994)'],\n",
       "       [array([ 1.60666513], dtype=float32), 'Exotica (1994)'],\n",
       "       [array([ 1.60341656], dtype=float32),\n",
       "        \"Amores Perros (Love's a Bitch) (2000)\"],\n",
       "       [array([ 1.60309684], dtype=float32), '3:10 to Yuma (2007)'],\n",
       "       [array([ 1.58774066], dtype=float32), 'It Happened One Night (1934)'],\n",
       "       [array([ 1.58605444], dtype=float32), 'Smoke (1995)'],\n",
       "       [array([ 1.57391286], dtype=float32), 'Big Night (1996)'],\n",
       "       [array([ 1.55549026], dtype=float32),\n",
       "        'In the Name of the Father (1993)'],\n",
       "       [array([ 1.55367613], dtype=float32), 'All About Eve (1950)'],\n",
       "       [array([ 1.55224741], dtype=float32),\n",
       "        'Harry Potter and the Deathly Hallows: Part 2 (2011)'],\n",
       "       [array([ 1.54810441], dtype=float32), 'On the Waterfront (1954)'],\n",
       "       [array([ 1.54291141], dtype=float32),\n",
       "        \"Howl's Moving Castle (Hauru no ugoku shiro) (2004)\"],\n",
       "       [array([ 1.53838015], dtype=float32),\n",
       "        'Raise the Red Lantern (Da hong deng long gao gao gua) (1991)'],\n",
       "       [array([ 1.5377593], dtype=float32), 'Persuasion (1995)'],\n",
       "       [array([ 1.53432846], dtype=float32), 'Rush (2013)'],\n",
       "       [array([ 1.53087258], dtype=float32), 'Modern Times (1936)'],\n",
       "       [array([ 1.53010869], dtype=float32), 'Tom Jones (1963)']], dtype=object)"
      ]
     },
     "execution_count": 66,
     "metadata": {},
     "output_type": "execute_result"
    }
   ],
   "source": [
    "np.squeeze(np.array(zip(biases, names))[most_positive_bias_indexes][:20])"
   ]
  },
  {
   "cell_type": "markdown",
   "metadata": {
    "hidden": true
   },
   "source": [
    "## Explore latent factors"
   ]
  },
  {
   "cell_type": "code",
   "execution_count": 29,
   "metadata": {
    "ExecuteTime": {
     "end_time": "2017-03-01T21:22:01.578963",
     "start_time": "2017-03-01T21:22:01.574394"
    },
    "collapsed": false,
    "hidden": true
   },
   "outputs": [],
   "source": [
    "get_latent_factors = Model(movie_inp, movie_embeddings)"
   ]
  },
  {
   "cell_type": "code",
   "execution_count": 30,
   "metadata": {
    "ExecuteTime": {
     "end_time": "2017-03-01T21:22:02.221452",
     "start_time": "2017-03-01T21:22:02.130324"
    },
    "collapsed": false,
    "hidden": true
   },
   "outputs": [
    {
     "data": {
      "text/plain": [
       "(2000, 50)"
      ]
     },
     "execution_count": 30,
     "metadata": {},
     "output_type": "execute_result"
    }
   ],
   "source": [
    "latent_factors = get_latent_factors.predict(most_reviewed_movies_indexes)\n",
    "latent_factors = np.squeeze(latent_factors)\n",
    "latent_factors.shape"
   ]
  },
  {
   "cell_type": "markdown",
   "metadata": {
    "heading_collapsed": true,
    "hidden": true
   },
   "source": [
    "### TSNE"
   ]
  },
  {
   "cell_type": "code",
   "execution_count": 52,
   "metadata": {
    "ExecuteTime": {
     "end_time": "2017-03-01T21:32:15.776736",
     "start_time": "2017-03-01T21:32:15.767050"
    },
    "collapsed": false,
    "hidden": true
   },
   "outputs": [],
   "source": [
    "# Sometimes tnes is very pick about Inf, NaN, or zeroes in the data\n",
    "non_zero_factors = latent_factors\n",
    "threshold_for_bug = 0.000001  # could be any value, ex numpy.min\n",
    "non_zero_factors = np.nan_to_num(non_zero_factors)\n",
    "non_zero_factors = np.nan_to_num(non_zero_factors)\n",
    "non_zero_factors[abs(non_zero_factors) < threshold_for_bug] = threshold_for_bug"
   ]
  },
  {
   "cell_type": "code",
   "execution_count": null,
   "metadata": {
    "ExecuteTime": {
     "end_time": "2017-03-01T21:32:36.242123",
     "start_time": "2017-03-01T21:32:16.356895"
    },
    "collapsed": false,
    "hidden": true
   },
   "outputs": [],
   "source": [
    "from sklearn.manifold import TSNE\n",
    "tsne = TSNE(n_components=2, init='pca')\n",
    "\n",
    "components = tsne.fit_transform(non_zero_factors)"
   ]
  },
  {
   "cell_type": "code",
   "execution_count": 60,
   "metadata": {
    "ExecuteTime": {
     "end_time": "2017-03-01T21:33:39.079402",
     "start_time": "2017-03-01T21:33:39.072424"
    },
    "collapsed": false,
    "hidden": true
   },
   "outputs": [
    {
     "data": {
      "text/plain": [
       "(2000, 2)"
      ]
     },
     "execution_count": 60,
     "metadata": {},
     "output_type": "execute_result"
    }
   ],
   "source": [
    "components.shape"
   ]
  },
  {
   "cell_type": "code",
   "execution_count": 112,
   "metadata": {
    "ExecuteTime": {
     "end_time": "2017-03-01T21:53:51.497255",
     "start_time": "2017-03-01T21:53:50.301948"
    },
    "collapsed": false,
    "hidden": true
   },
   "outputs": [
    {
     "data": {
      "text/plain": [
       "<matplotlib.figure.Figure at 0x12afdb8d0>"
      ]
     },
     "execution_count": 112,
     "metadata": {},
     "output_type": "execute_result"
    },
    {
     "data": {
      "text/plain": [
       "<matplotlib.collections.PathCollection at 0x120de3710>"
      ]
     },
     "execution_count": 112,
     "metadata": {},
     "output_type": "execute_result"
    },
    {
     "data": {
      "text/plain": [
       "[]"
      ]
     },
     "execution_count": 112,
     "metadata": {},
     "output_type": "execute_result"
    },
    {
     "data": {
      "image/png": "[encoded data removed]",
      "text/plain": [
       "<matplotlib.figure.Figure at 0x12afdb8d0>"
      ]
     },
     "metadata": {},
     "output_type": "display_data"
    }
   ],
   "source": [
    "# TSNE is very good for visualizations\n",
    "num_movies_to_display = 50\n",
    "x = components[:num_movies_to_display, 0]\n",
    "y = components[:num_movies_to_display, 1]\n",
    "plot_names = np.array(names)[:num_movies_to_display]\n",
    "plt.figure(figsize=(10, 10))\n",
    "plt.scatter(x, y)\n",
    "for (coord_x, coord_y, name) in zip(x, y, plot_names):\n",
    "    _ = plt.text(coord_x, coord_y, name, color=np.random.rand(3))\n",
    "plt.plot()\n"
   ]
  },
  {
   "cell_type": "markdown",
   "metadata": {
    "heading_collapsed": true,
    "hidden": true
   },
   "source": [
    "### PCA"
   ]
  },
  {
   "cell_type": "code",
   "execution_count": 115,
   "metadata": {
    "ExecuteTime": {
     "end_time": "2017-03-01T21:54:59.630738",
     "start_time": "2017-03-01T21:54:59.604629"
    },
    "collapsed": false,
    "hidden": true
   },
   "outputs": [
    {
     "data": {
      "text/plain": [
       "PCA(copy=True, iterated_power='auto', n_components=5, random_state=None,\n",
       "  svd_solver='auto', tol=0.0, whiten=False)"
      ]
     },
     "execution_count": 115,
     "metadata": {},
     "output_type": "execute_result"
    },
    {
     "data": {
      "text/plain": [
       "(2000,)"
      ]
     },
     "execution_count": 115,
     "metadata": {},
     "output_type": "execute_result"
    }
   ],
   "source": [
    "from sklearn.decomposition import PCA\n",
    "pca = PCA(n_components=5)\n",
    "pca.fit(latent_factors.T)\n",
    "components = pca.components_\n",
    "components[0].shape"
   ]
  },
  {
   "cell_type": "markdown",
   "metadata": {
    "hidden": true
   },
   "source": [
    "##### Review the extracted components "
   ]
  },
  {
   "cell_type": "code",
   "execution_count": 118,
   "metadata": {
    "ExecuteTime": {
     "end_time": "2017-03-01T21:55:09.196301",
     "start_time": "2017-03-01T21:55:09.170014"
    },
    "collapsed": false,
    "hidden": true
   },
   "outputs": [
    {
     "data": {
      "text/plain": [
       "array([['-0.0677304382301', 'Invasion of the Body Snatchers (1956)'],\n",
       "       ['-0.0666652248057', 'Closer (2004)'],\n",
       "       ['-0.0654977516949', 'Into the Wild (2007)'],\n",
       "       ['-0.0646780194295', 'Vertical Limit (2000)'],\n",
       "       ['-0.0646474205635', 'Sleepless in Seattle (1993)'],\n",
       "       ['-0.064497829385',\n",
       "        'Star Wars: Episode V - The Empire Strikes Back (1980)'],\n",
       "       ['-0.063499180439', 'Bowfinger (1999)'],\n",
       "       ['-0.0630093162158', '2001: A Space Odyssey (1968)'],\n",
       "       ['-0.0623208613837', 'Lilo & Stitch (2002)'],\n",
       "       ['-0.059053653834', '2012 (2009)']], \n",
       "      dtype='|S100')"
      ]
     },
     "execution_count": 118,
     "metadata": {},
     "output_type": "execute_result"
    },
    {
     "data": {
      "text/plain": [
       "array([['0.0672718492846', 'Sting, The (1973)'],\n",
       "       ['0.0640669960915', 'Jungle Book, The (1967)'],\n",
       "       ['0.0617756432623', '40 Days and 40 Nights (2002)'],\n",
       "       ['0.0613652941653', 'Hoosiers (a.k.a. Best Shot) (1986)'],\n",
       "       ['0.0613117389046', \"Something's Gotta Give (2003)\"],\n",
       "       ['0.0585396512926', 'White Squall (1996)'],\n",
       "       ['0.058517797375', 'Auntie Mame (1958)'],\n",
       "       ['0.0584814266708', 'Edge of Tomorrow (2014)'],\n",
       "       ['0.0581078848336', 'Sunshine (2007)'],\n",
       "       ['0.0578518657865', 'Backdraft (1991)']], \n",
       "      dtype='|S100')"
      ]
     },
     "execution_count": 118,
     "metadata": {},
     "output_type": "execute_result"
    }
   ],
   "source": [
    "# This dimension seems to be critical acclaim\n",
    "current_component = components[0]\n",
    "sort_idx = np.argsort(current_component)\n",
    "reverse_sort_idx = sort_idx[::-1]\n",
    "np.array(zip(current_component, names))[sort_idx][:10]\n",
    "np.array(zip(current_component, names))[reverse_sort_idx][:10]"
   ]
  },
  {
   "cell_type": "code",
   "execution_count": 498,
   "metadata": {
    "ExecuteTime": {
     "end_time": "2017-03-01T21:06:04.822842",
     "start_time": "2017-03-01T21:06:04.784282"
    },
    "collapsed": false,
    "hidden": true
   },
   "outputs": [
    {
     "data": {
      "text/plain": [
       "array([['-0.0741237490614', 'Annie Hall (1977)'],\n",
       "       ['-0.070393532119', '2001: A Space Odyssey (1968)'],\n",
       "       ['-0.0663264455298', 'Brokeback Mountain (2005)'],\n",
       "       ['-0.0651209217345', 'Clockwork Orange, A (1971)'],\n",
       "       ['-0.0612365265299', 'Apocalypse Now (1979)'],\n",
       "       ['-0.0585668654113',\n",
       "        'Dr. Strangelove or: How I Learned to Stop Worrying and Love the Bomb (1964)'],\n",
       "       ['-0.0583772209046', 'Bringing Up Baby (1938)'],\n",
       "       ['-0.0578589546092', 'Vertigo (1958)'],\n",
       "       ['-0.0561368338125',\n",
       "        \"Amelie (Fabuleux destin d'Am\\xc3\\xa9lie Poulain, Le) (2001)\"],\n",
       "       ['-0.0559291505012', 'Harold and Maude (1971)']], \n",
       "      dtype='|S100')"
      ]
     },
     "execution_count": 498,
     "metadata": {},
     "output_type": "execute_result"
    },
    {
     "data": {
      "text/plain": [
       "array([['0.104076771862', 'Independence Day (a.k.a. ID4) (1996)'],\n",
       "       ['0.0987400374369', 'Armageddon (1998)'],\n",
       "       ['0.0862655362811', 'Jurassic Park (1993)'],\n",
       "       ['0.0853479528991', 'Stargate (1994)'],\n",
       "       ['0.0810039029655', 'Braveheart (1995)'],\n",
       "       ['0.07878404117', 'Twister (1996)'],\n",
       "       ['0.0784022527172', 'Ghost (1990)'],\n",
       "       ['0.0766502714063', 'Speed (1994)'],\n",
       "       ['0.0739906365952', 'True Lies (1994)'],\n",
       "       ['0.0727179149655',\n",
       "        'Star Wars: Episode I - The Phantom Menace (1999)']], \n",
       "      dtype='|S100')"
      ]
     },
     "execution_count": 498,
     "metadata": {},
     "output_type": "execute_result"
    }
   ],
   "source": [
    "# Maybe classics vs modern movies\n",
    "current_component = components[1]\n",
    "sort_idx = np.argsort(current_component)\n",
    "reverse_sort_idx = sort_idx[::-1]\n",
    "np.array(zip(current_component, names))[sort_idx][:10]\n",
    "np.array(zip(current_component, names))[reverse_sort_idx][:10]"
   ]
  },
  {
   "cell_type": "code",
   "execution_count": 500,
   "metadata": {
    "ExecuteTime": {
     "end_time": "2017-03-01T21:07:13.767719",
     "start_time": "2017-03-01T21:07:13.737876"
    },
    "collapsed": false,
    "hidden": true
   },
   "outputs": [
    {
     "data": {
      "text/plain": [
       "array([['-0.108393380718', 'Beauty and the Beast (1991)'],\n",
       "       ['-0.0895816333731', 'Sling Blade (1996)'],\n",
       "       ['-0.0874163276374', 'Babe (1995)'],\n",
       "       ['-0.0840613841908', 'Shrek (2001)'],\n",
       "       ['-0.0792388339421',\n",
       "        'Wallace & Gromit: The Best of Aardman Animation (1996)'],\n",
       "       ['-0.0714414777109', 'Finding Nemo (2003)'],\n",
       "       ['-0.0709009423871', 'Grease (1978)'],\n",
       "       ['-0.0704848226634', 'Sound of Music, The (1965)'],\n",
       "       ['-0.0700150556118', 'Sleepless in Seattle (1993)'],\n",
       "       ['-0.0685941064777', 'Chicken Run (2000)']], \n",
       "      dtype='|S100')"
      ]
     },
     "execution_count": 500,
     "metadata": {},
     "output_type": "execute_result"
    },
    {
     "data": {
      "text/plain": [
       "array([['0.102906916521', 'Seven (a.k.a. Se7en) (1995)'],\n",
       "       ['0.09313924179', 'American Psycho (2000)'],\n",
       "       ['0.0880036801491', 'Ace Ventura: Pet Detective (1994)'],\n",
       "       ['0.0831084022532', 'Fight Club (1999)'],\n",
       "       ['0.0797411267039', 'Kill Bill: Vol. 1 (2003)'],\n",
       "       ['0.0782119089518', 'Pulp Fiction (1994)'],\n",
       "       ['0.0780274983107', 'Spaceballs (1987)'],\n",
       "       ['0.0755817169117', 'Twelve Monkeys (a.k.a. 12 Monkeys) (1995)'],\n",
       "       ['0.0754241920096', 'Eyes Wide Shut (1999)'],\n",
       "       ['0.0735703414891', 'Nightmare Before Christmas, The (1993)']], \n",
       "      dtype='|S100')"
      ]
     },
     "execution_count": 500,
     "metadata": {},
     "output_type": "execute_result"
    }
   ],
   "source": [
    "# This dimension seems to be kid friendliness\n",
    "current_component = components[2]\n",
    "sort_idx = np.argsort(current_component)\n",
    "reverse_sort_idx = sort_idx[::-1]\n",
    "np.array(zip(current_component, names))[sort_idx][:10]\n",
    "np.array(zip(current_component, names))[reverse_sort_idx][:10]"
   ]
  },
  {
   "cell_type": "code",
   "execution_count": 501,
   "metadata": {
    "ExecuteTime": {
     "end_time": "2017-03-01T21:07:26.067981",
     "start_time": "2017-03-01T21:07:26.041567"
    },
    "collapsed": false,
    "hidden": true
   },
   "outputs": [
    {
     "data": {
      "text/plain": [
       "array([['-0.106665362248',\n",
       "        'Star Wars: Episode V - The Empire Strikes Back (1980)'],\n",
       "       ['-0.105132589908', 'Star Wars: Episode IV - A New Hope (1977)'],\n",
       "       ['-0.10370768342', 'Lord of the Rings: The Two Towers, The (2002)'],\n",
       "       ['-0.0998803253779',\n",
       "        'Lord of the Rings: The Fellowship of the Ring, The (2001)'],\n",
       "       ['-0.0920675116253', 'Silence of the Lambs, The (1991)'],\n",
       "       ['-0.0869867620915', 'Exorcist, The (1973)'],\n",
       "       ['-0.0869292121648', 'Aliens (1986)'],\n",
       "       ['-0.0842374382771',\n",
       "        'Star Wars: Episode VI - Return of the Jedi (1983)'],\n",
       "       ['-0.0842146978907', 'Matrix, The (1999)'],\n",
       "       ['-0.0835528645751', 'Saving Private Ryan (1998)']], \n",
       "      dtype='|S100')"
      ]
     },
     "execution_count": 501,
     "metadata": {},
     "output_type": "execute_result"
    },
    {
     "data": {
      "text/plain": [
       "array([['0.0955444584224',\n",
       "        'Life Is Beautiful (La Vita \\xc3\\xa8 bella) (1997)'],\n",
       "       ['0.0831849914868', 'Kill Bill: Vol. 2 (2004)'],\n",
       "       ['0.0820628715542', 'Piano, The (1993)'],\n",
       "       ['0.0810427608224', 'Cruel Intentions (1999)'],\n",
       "       ['0.0800310478853',\n",
       "        'Like Water for Chocolate (Como agua para chocolate) (1992)'],\n",
       "       ['0.0675322137549', 'Little Miss Sunshine (2006)'],\n",
       "       ['0.0634637500496', 'From Dusk Till Dawn (1996)'],\n",
       "       ['0.0630430783863', 'Lock, Stock & Two Smoking Barrels (1998)'],\n",
       "       ['0.0615580803948', 'Slumdog Millionaire (2008)'],\n",
       "       ['0.0607959626237', 'Snatch (2000)']], \n",
       "      dtype='|S100')"
      ]
     },
     "execution_count": 501,
     "metadata": {},
     "output_type": "execute_result"
    }
   ],
   "source": [
    "# Not quite sure what this is\n",
    "current_component = components[3]\n",
    "sort_idx = np.argsort(current_component)\n",
    "reverse_sort_idx = sort_idx[::-1]\n",
    "np.array(zip(current_component, names))[sort_idx][:10]\n",
    "np.array(zip(current_component, names))[reverse_sort_idx][:10]"
   ]
  },
  {
   "cell_type": "code",
   "execution_count": 502,
   "metadata": {
    "ExecuteTime": {
     "end_time": "2017-03-01T21:08:40.331276",
     "start_time": "2017-03-01T21:08:40.294478"
    },
    "collapsed": false,
    "hidden": true
   },
   "outputs": [
    {
     "data": {
      "text/plain": [
       "array([['-0.0972818749082',\n",
       "        'Lord of the Rings: The Return of the King, The (2003)'],\n",
       "       ['-0.0960334269259', 'Lord of the Rings: The Two Towers, The (2002)'],\n",
       "       ['-0.0957800349939', 'X2: X-Men United (2003)'],\n",
       "       ['-0.0797647406453', 'Shrek 2 (2004)'],\n",
       "       ['-0.077880303848', 'Princess Bride, The (1987)'],\n",
       "       ['-0.0775524459802', 'Incredibles, The (2004)'],\n",
       "       ['-0.0758475073082', 'South Park: Bigger, Longer and Uncut (1999)'],\n",
       "       ['-0.0745112378817', 'Rocky (1976)'],\n",
       "       ['-0.0740022440973', 'X-Men (2000)'],\n",
       "       ['-0.0732247226868', 'Spider-Man 2 (2004)']], \n",
       "      dtype='|S100')"
      ]
     },
     "execution_count": 502,
     "metadata": {},
     "output_type": "execute_result"
    },
    {
     "data": {
      "text/plain": [
       "array([['0.124217250871', 'Fargo (1996)'],\n",
       "       ['0.116327891531', 'Leaving Las Vegas (1995)'],\n",
       "       ['0.0955530193425', 'American Beauty (1999)'],\n",
       "       ['0.0884726260402', 'Eyes Wide Shut (1999)'],\n",
       "       ['0.0879246501126', 'Get Shorty (1995)'],\n",
       "       ['0.0812416896893', 'Speed (1994)'],\n",
       "       ['0.0793108546054', 'Shawshank Redemption, The (1994)'],\n",
       "       ['0.0788763195876', 'Silence of the Lambs, The (1991)'],\n",
       "       ['0.0781903008642', \"Schindler's List (1993)\"],\n",
       "       ['0.0761297215616', 'Armageddon (1998)']], \n",
       "      dtype='|S100')"
      ]
     },
     "execution_count": 502,
     "metadata": {},
     "output_type": "execute_result"
    }
   ],
   "source": [
    "# Action heavy?\n",
    "current_component = components[4]\n",
    "sort_idx = np.argsort(current_component)\n",
    "reverse_sort_idx = sort_idx[::-1]\n",
    "np.array(zip(current_component, names))[sort_idx][:10]\n",
    "np.array(zip(current_component, names))[reverse_sort_idx][:10]"
   ]
  },
  {
   "cell_type": "code",
   "execution_count": 436,
   "metadata": {
    "ExecuteTime": {
     "end_time": "2017-03-01T20:39:16.012799",
     "start_time": "2017-03-01T20:39:15.984260"
    },
    "collapsed": false,
    "hidden": true
   },
   "outputs": [],
   "source": [
    "most_negative_bias_indexes = np.argsort(biases, axis=0)\n",
    "most_positive_bias_indexes = most_negative_bias_indexes[::-1]\n",
    "movie_ids = [movie_index2id[index] for index in most_reviewed_movies_indexes]\n",
    "names = movie_names.title[movie_ids]"
   ]
  },
  {
   "cell_type": "code",
   "execution_count": 442,
   "metadata": {
    "ExecuteTime": {
     "end_time": "2017-03-01T20:40:38.344783",
     "start_time": "2017-03-01T20:40:38.314517"
    },
    "collapsed": false,
    "hidden": true
   },
   "outputs": [
    {
     "data": {
      "text/plain": [
       "array([[array([-0.73873442], dtype=float32), 'Battlefield Earth (2000)'],\n",
       "       [array([-0.45382959], dtype=float32), 'Blade: Trinity (2004)'],\n",
       "       [array([-0.34255055], dtype=float32), 'Jaws 3-D (1983)'],\n",
       "       [array([-0.32341531], dtype=float32), 'Super Mario Bros. (1993)'],\n",
       "       [array([-0.29737321], dtype=float32),\n",
       "        'Speed 2: Cruise Control (1997)'],\n",
       "       [array([-0.27238852], dtype=float32),\n",
       "        '2 Fast 2 Furious (Fast and the Furious 2, The) (2003)'],\n",
       "       [array([-0.25187671], dtype=float32), 'Avengers, The (1998)'],\n",
       "       [array([-0.22809274], dtype=float32),\n",
       "        'Police Academy 6: City Under Siege (1989)'],\n",
       "       [array([-0.19053289], dtype=float32), 'Little Nicky (2000)'],\n",
       "       [array([-0.18457514], dtype=float32), 'Wild Wild West (1999)'],\n",
       "       [array([-0.16028544], dtype=float32), 'Godzilla (1998)'],\n",
       "       [array([-0.13809091], dtype=float32), 'Richie Rich (1994)'],\n",
       "       [array([-0.11911272], dtype=float32),\n",
       "        'Police Academy 5: Assignment: Miami Beach (1988)'],\n",
       "       [array([-0.11524308], dtype=float32), 'Batman & Robin (1997)'],\n",
       "       [array([-0.11086328], dtype=float32), 'Spice World (1997)'],\n",
       "       [array([-0.11055211], dtype=float32), 'Superman III (1983)'],\n",
       "       [array([-0.08663398], dtype=float32), 'Howard the Duck (1986)'],\n",
       "       [array([-0.06817671], dtype=float32), 'Nutty Professor, The (1963)'],\n",
       "       [array([-0.05702643], dtype=float32), 'King Kong (1976)'],\n",
       "       [array([-0.05238862], dtype=float32), 'Bio-Dome (1996)']], dtype=object)"
      ]
     },
     "execution_count": 442,
     "metadata": {},
     "output_type": "execute_result"
    }
   ],
   "source": [
    "np.squeeze(np.array(zip(biases, names))[most_negative_bias_indexes][:20])"
   ]
  },
  {
   "cell_type": "markdown",
   "metadata": {
    "heading_collapsed": true
   },
   "source": [
    "# NN Model\n",
    "One final jab at that state-of-the-art accuracy."
   ]
  },
  {
   "cell_type": "code",
   "execution_count": 67,
   "metadata": {
    "ExecuteTime": {
     "end_time": "2017-03-01T22:27:54.615705",
     "start_time": "2017-03-01T22:27:54.611735"
    },
    "collapsed": true,
    "hidden": true
   },
   "outputs": [],
   "source": [
    "num_latent_factors = 50"
   ]
  },
  {
   "cell_type": "markdown",
   "metadata": {
    "hidden": true
   },
   "source": [
    "User Embeddings"
   ]
  },
  {
   "cell_type": "code",
   "execution_count": 68,
   "metadata": {
    "ExecuteTime": {
     "end_time": "2017-03-01T22:27:55.769691",
     "start_time": "2017-03-01T22:27:55.727576"
    },
    "collapsed": false,
    "hidden": true
   },
   "outputs": [],
   "source": [
    "user_inp = Input(shape=(1,))\n",
    "user_embeddings = Embedding(\n",
    "    input_dim=num_users,\n",
    "    output_dim=num_latent_factors,\n",
    "    input_length=1,\n",
    "    name='user_emb')(user_inp)"
   ]
  },
  {
   "cell_type": "markdown",
   "metadata": {
    "hidden": true
   },
   "source": [
    "Movie Embeddings"
   ]
  },
  {
   "cell_type": "code",
   "execution_count": 69,
   "metadata": {
    "ExecuteTime": {
     "end_time": "2017-03-01T22:27:56.695786",
     "start_time": "2017-03-01T22:27:56.645341"
    },
    "collapsed": true,
    "hidden": true
   },
   "outputs": [],
   "source": [
    "movie_inp = Input(shape=(1,))\n",
    "movie_embeddings = Embedding(\n",
    "    input_dim=num_movies,\n",
    "    output_dim=num_latent_factors,\n",
    "    input_length=1,\n",
    "    name='movie_emb')(movie_inp)"
   ]
  },
  {
   "cell_type": "markdown",
   "metadata": {
    "hidden": true
   },
   "source": [
    "The model"
   ]
  },
  {
   "cell_type": "code",
   "execution_count": 70,
   "metadata": {
    "ExecuteTime": {
     "end_time": "2017-03-01T22:27:57.995891",
     "start_time": "2017-03-01T22:27:57.983379"
    },
    "collapsed": true,
    "hidden": true
   },
   "outputs": [],
   "source": [
    "embeddings = merge([user_embeddings, movie_embeddings], mode='concat')"
   ]
  },
  {
   "cell_type": "code",
   "execution_count": 71,
   "metadata": {
    "ExecuteTime": {
     "end_time": "2017-03-01T22:27:58.534692",
     "start_time": "2017-03-01T22:27:58.418327"
    },
    "collapsed": false,
    "hidden": true
   },
   "outputs": [],
   "source": [
    "x = Flatten()(embeddings)\n",
    "x = Dense(128, activation='relu')(x)\n",
    "# x = BatchNormalization()(x)\n",
    "# x = Dropout(0.5)(x)\n",
    "x = Dense(1)(x)"
   ]
  },
  {
   "cell_type": "code",
   "execution_count": 72,
   "metadata": {
    "ExecuteTime": {
     "end_time": "2017-03-01T22:28:00.332540",
     "start_time": "2017-03-01T22:28:00.239686"
    },
    "collapsed": true,
    "hidden": true
   },
   "outputs": [],
   "source": [
    "model = Model(input=[user_inp, movie_inp], output=x)\n",
    "model.compile(optimizer=Adam(lr=1e-3), loss='mse')"
   ]
  },
  {
   "cell_type": "code",
   "execution_count": 73,
   "metadata": {
    "ExecuteTime": {
     "end_time": "2017-03-01T22:28:00.648495",
     "start_time": "2017-03-01T22:28:00.640546"
    },
    "collapsed": false,
    "hidden": true
   },
   "outputs": [
    {
     "name": "stdout",
     "output_type": "stream",
     "text": [
      "____________________________________________________________________________________________________\n",
      "Layer (type)                     Output Shape          Param #     Connected to                     \n",
      "====================================================================================================\n",
      "input_7 (InputLayer)             (None, 1)             0                                            \n",
      "____________________________________________________________________________________________________\n",
      "input_8 (InputLayer)             (None, 1)             0                                            \n",
      "____________________________________________________________________________________________________\n",
      "user_emb (Embedding)             (None, 1, 50)         33550       input_7[0][0]                    \n",
      "____________________________________________________________________________________________________\n",
      "movie_emb (Embedding)            (None, 1, 50)         453300      input_8[0][0]                    \n",
      "____________________________________________________________________________________________________\n",
      "merge_5 (Merge)                  (None, 1, 100)        0           user_emb[0][0]                   \n",
      "                                                                   movie_emb[0][0]                  \n",
      "____________________________________________________________________________________________________\n",
      "flatten_8 (Flatten)              (None, 100)           0           merge_5[0][0]                    \n",
      "____________________________________________________________________________________________________\n",
      "dense_1 (Dense)                  (None, 128)           12928       flatten_8[0][0]                  \n",
      "____________________________________________________________________________________________________\n",
      "dense_2 (Dense)                  (None, 1)             129         dense_1[0][0]                    \n",
      "====================================================================================================\n",
      "Total params: 499,907\n",
      "Trainable params: 499,907\n",
      "Non-trainable params: 0\n",
      "____________________________________________________________________________________________________\n"
     ]
    }
   ],
   "source": [
    "model.summary()"
   ]
  },
  {
   "cell_type": "code",
   "execution_count": 74,
   "metadata": {
    "ExecuteTime": {
     "end_time": "2017-03-01T22:29:51.349845",
     "start_time": "2017-03-01T22:28:01.748198"
    },
    "collapsed": false,
    "hidden": true
   },
   "outputs": [
    {
     "data": {
      "text/plain": [
       "<tf.Tensor 'Assign_104:0' shape=() dtype=float32_ref>"
      ]
     },
     "execution_count": 74,
     "metadata": {},
     "output_type": "execute_result"
    },
    {
     "name": "stdout",
     "output_type": "stream",
     "text": [
      "Train on 79915 samples, validate on 20089 samples\n",
      "Epoch 1/5\n",
      "79915/79915 [==============================] - 22s - loss: 1.4240 - val_loss: 0.8197\n",
      "Epoch 2/5\n",
      "79915/79915 [==============================] - 22s - loss: 0.7626 - val_loss: 0.7981\n",
      "Epoch 3/5\n",
      "79915/79915 [==============================] - 21s - loss: 0.7173 - val_loss: 0.7938\n",
      "Epoch 4/5\n",
      "79915/79915 [==============================] - 21s - loss: 0.6882 - val_loss: 0.7840\n",
      "Epoch 5/5\n",
      "79915/79915 [==============================] - 20s - loss: 0.6610 - val_loss: 0.7979\n"
     ]
    },
    {
     "data": {
      "text/plain": [
       "<keras.callbacks.History at 0x1180d57d0>"
      ]
     },
     "execution_count": 74,
     "metadata": {},
     "output_type": "execute_result"
    }
   ],
   "source": [
    "model.optimizer.lr.assign(1e-4)\n",
    "model.fit(x=[train.userId, train.movieId],\n",
    "          y=train.rating,\n",
    "          batch_size=64,\n",
    "          nb_epoch=5,\n",
    "          validation_data=([valid.userId, valid.movieId], valid.rating))"
   ]
  },
  {
   "cell_type": "markdown",
   "metadata": {
    "hidden": true
   },
   "source": [
    "There we have it: state of art accuracy on the MovieLens 100k dataset."
   ]
  }
 ],
 "metadata": {
  "anaconda-cloud": {},
  "kernelspec": {
   "display_name": "Python [default]",
   "language": "python",
   "name": "python2"
  },
  "language_info": {
   "codemirror_mode": {
    "name": "ipython",
    "version": 2
   },
   "file_extension": ".py",
   "mimetype": "text/x-python",
   "name": "python",
   "nbconvert_exporter": "python",
   "pygments_lexer": "ipython2",
   "version": "2.7.12"
  }
 },
 "nbformat": 4,
 "nbformat_minor": 1
}
